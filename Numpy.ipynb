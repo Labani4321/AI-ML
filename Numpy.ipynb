{
  "nbformat": 4,
  "nbformat_minor": 0,
  "metadata": {
    "colab": {
      "provenance": [],
      "include_colab_link": true
    },
    "kernelspec": {
      "name": "python3",
      "display_name": "Python 3"
    },
    "language_info": {
      "name": "python"
    }
  },
  "cells": [
    {
      "cell_type": "markdown",
      "metadata": {
        "id": "view-in-github",
        "colab_type": "text"
      },
      "source": [
        "<a href=\"https://colab.research.google.com/github/Labani4321/AI-ML/blob/main/Numpy.ipynb\" target=\"_parent\"><img src=\"https://colab.research.google.com/assets/colab-badge.svg\" alt=\"Open In Colab\"/></a>"
      ]
    },
    {
      "cell_type": "markdown",
      "source": [
        "NumPy, short for Numerical Python, is a powerful Python library used primarily for numerical computing and data analysis. It provides support for arrays, matrices, and a wide range of mathematical functions to operate on these data structures efficiently.\n"
      ],
      "metadata": {
        "id": "dCHDLvtTup6y"
      }
    },
    {
      "cell_type": "code",
      "source": [
        "import numpy as np\n"
      ],
      "metadata": {
        "id": "Wb6s5ovlAr0p"
      },
      "execution_count": 1,
      "outputs": []
    },
    {
      "cell_type": "code",
      "source": [
        "import platform\n",
        "print('Python version: '+platform.python_version())\n",
        "print('Numpy Version: '+np.__version__)"
      ],
      "metadata": {
        "colab": {
          "base_uri": "https://localhost:8080/"
        },
        "id": "JvZMO-itsTfP",
        "outputId": "3ffc3b8e-fc0c-4994-9d7d-976d5c623596"
      },
      "execution_count": 2,
      "outputs": [
        {
          "output_type": "stream",
          "name": "stdout",
          "text": [
            "Python version: 3.10.12\n",
            "Numpy Version: 1.26.4\n"
          ]
        }
      ]
    },
    {
      "cell_type": "markdown",
      "source": [
        "A NumPy array is a central data structure in the NumPy library, designed for efficient numerical computing in Python. It is a grid of elements of the same data type, indexed by a tuple of non-negative integers. NumPy arrays are homogeneous, meaning that all elements must be of the same data type. This allows for fast and memory-efficient operations on large datasets."
      ],
      "metadata": {
        "id": "gBnYEsoWttJj"
      }
    },
    {
      "cell_type": "code",
      "source": [
        "# create an array with a specified data type\n",
        "arr = np.array([1,2,3], dtype='f4')\n",
        "print(arr)\n",
        "print(arr.dtype)\n",
        "\n",
        "arr = np.array([1+2j, 3-4j], dtype=np.complex64)\n",
        "print(arr)\n",
        "print(arr.dtype)\n",
        "\n"
      ],
      "metadata": {
        "colab": {
          "base_uri": "https://localhost:8080/"
        },
        "id": "N2dRQX4Ptr9-",
        "outputId": "868d95b2-64c1-43d8-9b5f-a5f31282588a"
      },
      "execution_count": 3,
      "outputs": [
        {
          "output_type": "stream",
          "name": "stdout",
          "text": [
            "[1. 2. 3.]\n",
            "float32\n",
            "[1.+2.j 3.-4.j]\n",
            "complex64\n"
          ]
        }
      ]
    },
    {
      "cell_type": "markdown",
      "source": [
        "# 1. Create **Arrays**"
      ],
      "metadata": {
        "id": "IjfyoTzqv6cN"
      }
    },
    {
      "cell_type": "code",
      "source": [
        "arr = np.array(range(10))\n",
        "print(arr)"
      ],
      "metadata": {
        "colab": {
          "base_uri": "https://localhost:8080/"
        },
        "id": "2v4FGyz7tzrY",
        "outputId": "36ba0173-219f-4137-d10c-ce94436367bd"
      },
      "execution_count": 4,
      "outputs": [
        {
          "output_type": "stream",
          "name": "stdout",
          "text": [
            "[0 1 2 3 4 5 6 7 8 9]\n"
          ]
        }
      ]
    },
    {
      "cell_type": "code",
      "source": [
        "arr = np.array([1,2,3,4,5])\n",
        "print(arr)"
      ],
      "metadata": {
        "colab": {
          "base_uri": "https://localhost:8080/"
        },
        "id": "XRPQ7BWLvbwc",
        "outputId": "135b2d87-b789-478f-e8d5-b8c60087c830"
      },
      "execution_count": 5,
      "outputs": [
        {
          "output_type": "stream",
          "name": "stdout",
          "text": [
            "[1 2 3 4 5]\n"
          ]
        }
      ]
    },
    {
      "cell_type": "code",
      "source": [
        "# np.arange(start, stop, step)\n",
        "arr = np.arange(0, 20, 2)\n",
        "print(arr)"
      ],
      "metadata": {
        "colab": {
          "base_uri": "https://localhost:8080/"
        },
        "id": "_UYUdylJwUjH",
        "outputId": "3cad8e6a-bc59-459d-98fb-a1d0cb9d8265"
      },
      "execution_count": 6,
      "outputs": [
        {
          "output_type": "stream",
          "name": "stdout",
          "text": [
            "[ 0  2  4  6  8 10 12 14 16 18]\n"
          ]
        }
      ]
    },
    {
      "cell_type": "code",
      "source": [
        "arr = np.random.rand(3, 3)\n",
        "print(arr)"
      ],
      "metadata": {
        "colab": {
          "base_uri": "https://localhost:8080/"
        },
        "id": "L1cFeyluwZMX",
        "outputId": "5d0f679d-a895-47d5-c946-1b7615448e22"
      },
      "execution_count": 7,
      "outputs": [
        {
          "output_type": "stream",
          "name": "stdout",
          "text": [
            "[[0.13843116 0.61343361 0.85235734]\n",
            " [0.39145627 0.0450953  0.24090274]\n",
            " [0.85858721 0.6164459  0.98015149]]\n"
          ]
        }
      ]
    },
    {
      "cell_type": "code",
      "source": [
        "identity_matrix = np.eye(3)\n",
        "print(identity_matrix)"
      ],
      "metadata": {
        "colab": {
          "base_uri": "https://localhost:8080/"
        },
        "id": "6QPtCxdDw77D",
        "outputId": "50b915d3-69ab-40b0-b9a4-61513cf54fc3"
      },
      "execution_count": 8,
      "outputs": [
        {
          "output_type": "stream",
          "name": "stdout",
          "text": [
            "[[1. 0. 0.]\n",
            " [0. 1. 0.]\n",
            " [0. 0. 1.]]\n"
          ]
        }
      ]
    },
    {
      "cell_type": "markdown",
      "source": [
        "# **Inspect an Array**"
      ],
      "metadata": {
        "id": "IOGrgZLFJQDf"
      }
    },
    {
      "cell_type": "code",
      "source": [
        "arr = np.array([[1,2,3], [4,5,6]], dtype=np.int64)"
      ],
      "metadata": {
        "id": "lZcpkyaAItZx"
      },
      "execution_count": 9,
      "outputs": []
    },
    {
      "cell_type": "code",
      "source": [
        "print(arr.dtype)"
      ],
      "metadata": {
        "colab": {
          "base_uri": "https://localhost:8080/"
        },
        "id": "YUBYtlX-I0EC",
        "outputId": "a6c75b9e-b1d9-4be4-c2fe-be0ba9c7be44"
      },
      "execution_count": 10,
      "outputs": [
        {
          "output_type": "stream",
          "name": "stdout",
          "text": [
            "int64\n"
          ]
        }
      ]
    },
    {
      "cell_type": "code",
      "source": [
        "print(arr.shape)"
      ],
      "metadata": {
        "colab": {
          "base_uri": "https://localhost:8080/"
        },
        "id": "9OZHoJiRI0Pv",
        "outputId": "b4bc0802-619c-43cf-8a9c-744b10bf4d13"
      },
      "execution_count": 11,
      "outputs": [
        {
          "output_type": "stream",
          "name": "stdout",
          "text": [
            "(2, 3)\n"
          ]
        }
      ]
    },
    {
      "cell_type": "code",
      "source": [
        "print(arr.ndim)"
      ],
      "metadata": {
        "colab": {
          "base_uri": "https://localhost:8080/"
        },
        "id": "PhBNfQ38I8xX",
        "outputId": "1a322bb2-dcdc-469b-dc91-2b5bf1e68d9f"
      },
      "execution_count": 12,
      "outputs": [
        {
          "output_type": "stream",
          "name": "stdout",
          "text": [
            "2\n"
          ]
        }
      ]
    },
    {
      "cell_type": "code",
      "source": [
        "print(arr.itemsize)"
      ],
      "metadata": {
        "colab": {
          "base_uri": "https://localhost:8080/"
        },
        "id": "5N6P66PmI9MZ",
        "outputId": "34cc305f-2958-48eb-a98c-6ec649741b2f"
      },
      "execution_count": 13,
      "outputs": [
        {
          "output_type": "stream",
          "name": "stdout",
          "text": [
            "8\n"
          ]
        }
      ]
    },
    {
      "cell_type": "code",
      "source": [
        "# arr.nbytes = arr.size * arr.itemsize\n",
        "print(arr.nbytes)"
      ],
      "metadata": {
        "colab": {
          "base_uri": "https://localhost:8080/"
        },
        "id": "r9fdlaogJHnq",
        "outputId": "c53bce33-cd33-428d-e3b1-cb82b2bda168"
      },
      "execution_count": 14,
      "outputs": [
        {
          "output_type": "stream",
          "name": "stdout",
          "text": [
            "48\n"
          ]
        }
      ]
    },
    {
      "cell_type": "markdown",
      "source": [
        " **Generate a random sample from interval [0, 1) in a given shape**"
      ],
      "metadata": {
        "id": "2V0eGF5VxtEr"
      }
    },
    {
      "cell_type": "code",
      "source": [
        "# generate a random scalar\n",
        "print(np.random.rand())"
      ],
      "metadata": {
        "colab": {
          "base_uri": "https://localhost:8080/"
        },
        "id": "bEb2cjbnxz6S",
        "outputId": "7760d388-f477-40cb-a2ce-7e17478747b3"
      },
      "execution_count": 15,
      "outputs": [
        {
          "output_type": "stream",
          "name": "stdout",
          "text": [
            "0.8485124736624194\n"
          ]
        }
      ]
    },
    {
      "cell_type": "code",
      "source": [
        "# generate a 1-D array\n",
        "print(np.random.rand(3))"
      ],
      "metadata": {
        "colab": {
          "base_uri": "https://localhost:8080/"
        },
        "id": "i-mYRUiZzBnq",
        "outputId": "fda0c9e0-652f-4d9c-bc43-b721213a019b"
      },
      "execution_count": 16,
      "outputs": [
        {
          "output_type": "stream",
          "name": "stdout",
          "text": [
            "[0.84276031 0.35520517 0.5693528 ]\n"
          ]
        }
      ]
    },
    {
      "cell_type": "code",
      "source": [
        "# generate a 2-D array\n",
        "print(np.random.rand(3,3))"
      ],
      "metadata": {
        "colab": {
          "base_uri": "https://localhost:8080/"
        },
        "id": "n8lzKapMzFhj",
        "outputId": "2be10a3a-aeb9-4968-c7a6-e86088161a0b"
      },
      "execution_count": 17,
      "outputs": [
        {
          "output_type": "stream",
          "name": "stdout",
          "text": [
            "[[0.4315945  0.44629063 0.46198255]\n",
            " [0.17779991 0.90015807 0.75932666]\n",
            " [0.5320616  0.4706491  0.00298253]]\n"
          ]
        }
      ]
    },
    {
      "cell_type": "code",
      "source": [
        "print(np.random.randn(3,3))"
      ],
      "metadata": {
        "colab": {
          "base_uri": "https://localhost:8080/"
        },
        "id": "cqxQPITdzKpC",
        "outputId": "51f6090c-f70f-4b0e-a01e-c251b807b1cf"
      },
      "execution_count": 18,
      "outputs": [
        {
          "output_type": "stream",
          "name": "stdout",
          "text": [
            "[[-0.66860499  0.5170326  -0.20217829]\n",
            " [-0.57698221 -2.41363138 -0.46524503]\n",
            " [-0.50278286  0.72854891 -0.11099536]]\n"
          ]
        }
      ]
    },
    {
      "cell_type": "code",
      "source": [
        "# np.random.randint(low, high, size, dtype)\n",
        "print(np.random.randint(1, 10, 3, 'i8'))"
      ],
      "metadata": {
        "colab": {
          "base_uri": "https://localhost:8080/"
        },
        "id": "e2d7WgMqzUE5",
        "outputId": "838064b1-a06a-4c37-afa9-25c2acecad5e"
      },
      "execution_count": 19,
      "outputs": [
        {
          "output_type": "stream",
          "name": "stdout",
          "text": [
            "[4 3 6]\n"
          ]
        }
      ]
    },
    {
      "cell_type": "code",
      "source": [
        "# the following methods are the same as np.random.rand()\n",
        "print(np.random.random_sample(10))\n",
        "print(np.random.random(10))\n",
        "print(np.random.ranf(10))\n",
        "print(np.random.sample(10))"
      ],
      "metadata": {
        "colab": {
          "base_uri": "https://localhost:8080/"
        },
        "id": "z6fyAWILzmNn",
        "outputId": "03a0dde5-b19d-45be-a959-1f155cbf48d2"
      },
      "execution_count": 20,
      "outputs": [
        {
          "output_type": "stream",
          "name": "stdout",
          "text": [
            "[0.54915012 0.59262722 0.03777703 0.07511752 0.9333705  0.06186206\n",
            " 0.48771443 0.52524979 0.5869351  0.2436565 ]\n",
            "[0.30968577 0.92810267 0.99134138 0.73762153 0.08076704 0.51053113\n",
            " 0.8514029  0.50688944 0.06618101 0.61082703]\n",
            "[0.95152458 0.0854133  0.25964742 0.12252634 0.2987154  0.6420781\n",
            " 0.34092974 0.27385405 0.51024258 0.24059324]\n",
            "[0.71507022 0.66515655 0.5265822  0.45706794 0.02361786 0.02549716\n",
            " 0.40353953 0.9863427  0.94236393 0.05162386]\n"
          ]
        }
      ]
    },
    {
      "cell_type": "code",
      "source": [
        "# it returns a copy rather than making changes in place\n",
        "arr = np.array(range(10))\n",
        "print('The initial array: ', arr)\n",
        "print('A permutation of the array: ', np.random.permutation(arr))"
      ],
      "metadata": {
        "colab": {
          "base_uri": "https://localhost:8080/"
        },
        "id": "l-2Hiti6zz6R",
        "outputId": "153835f5-e137-42a2-e836-261cc6784129"
      },
      "execution_count": 21,
      "outputs": [
        {
          "output_type": "stream",
          "name": "stdout",
          "text": [
            "The initial array:  [0 1 2 3 4 5 6 7 8 9]\n",
            "A permutation of the array:  [2 7 6 0 9 1 4 3 8 5]\n"
          ]
        }
      ]
    },
    {
      "cell_type": "code",
      "source": [
        "arr1 = np.array([1,2,3])\n",
        "# the above operations can be performed using numpy built-in functions\n",
        "# which can save memory as the output can be stored in the original array rather than assigning new memoryarr = np.array([1,2,3])\n",
        "\n",
        "np.add(arr1, [8,9,10], out=arr1)\n",
        "print(arr1)\n",
        "\n",
        "np.subtract(arr1, [8,9,10], out=arr1)\n",
        "print(arr1)\n",
        "\n",
        "np.multiply(arr1, [1,2,3], out=arr1)\n",
        "print(arr1)"
      ],
      "metadata": {
        "colab": {
          "base_uri": "https://localhost:8080/"
        },
        "id": "oA9cd4nH0QiB",
        "outputId": "f38d16b5-e175-488f-f1bd-7d0b417bbbe7"
      },
      "execution_count": 22,
      "outputs": [
        {
          "output_type": "stream",
          "name": "stdout",
          "text": [
            "[ 9 11 13]\n",
            "[1 2 3]\n",
            "[1 4 9]\n"
          ]
        }
      ]
    },
    {
      "cell_type": "code",
      "source": [
        "arr = np.random.rand(5,5)"
      ],
      "metadata": {
        "id": "mWAr_8P70on0"
      },
      "execution_count": 23,
      "outputs": []
    },
    {
      "cell_type": "code",
      "source": [
        "print(arr)"
      ],
      "metadata": {
        "colab": {
          "base_uri": "https://localhost:8080/"
        },
        "id": "8ZyEG_2R1ftK",
        "outputId": "e01afd71-6edb-43d8-e971-8ac22ff0e576"
      },
      "execution_count": 24,
      "outputs": [
        {
          "output_type": "stream",
          "name": "stdout",
          "text": [
            "[[0.02469739 0.52521997 0.31803104 0.72670911 0.19233633]\n",
            " [0.44761209 0.91376666 0.70747905 0.61744398 0.27783058]\n",
            " [0.23428439 0.94483085 0.26850965 0.73819331 0.06230251]\n",
            " [0.47471083 0.74217531 0.73691745 0.04291194 0.39567567]\n",
            " [0.2419205  0.13909471 0.73554411 0.64751875 0.43507364]]\n"
          ]
        }
      ]
    },
    {
      "cell_type": "code",
      "source": [
        "# sum along the row\n",
        "print(np.sum(arr, axis=0))"
      ],
      "metadata": {
        "colab": {
          "base_uri": "https://localhost:8080/"
        },
        "id": "CpX0Zzvl1iqW",
        "outputId": "277c0ef4-dee9-4c92-bf3c-f32a48e3d926"
      },
      "execution_count": 25,
      "outputs": [
        {
          "output_type": "stream",
          "name": "stdout",
          "text": [
            "[1.42322519 3.26508749 2.7664813  2.77277708 1.36321871]\n"
          ]
        }
      ]
    },
    {
      "cell_type": "code",
      "source": [
        "# calculate min along the row\n",
        "print(np.min(arr, axis=0))"
      ],
      "metadata": {
        "colab": {
          "base_uri": "https://localhost:8080/"
        },
        "id": "sF-owOvb1sU1",
        "outputId": "f8f6511d-a87b-45be-8083-3a8b870707b8"
      },
      "execution_count": 26,
      "outputs": [
        {
          "output_type": "stream",
          "name": "stdout",
          "text": [
            "[0.02469739 0.13909471 0.26850965 0.04291194 0.06230251]\n"
          ]
        }
      ]
    },
    {
      "cell_type": "code",
      "source": [
        "# calculate max along the column\n",
        "print(np.max(arr, axis=1))"
      ],
      "metadata": {
        "colab": {
          "base_uri": "https://localhost:8080/"
        },
        "id": "Odik-ild2OXp",
        "outputId": "8614c991-d8f9-43df-e6dc-b3e6a257bb9d"
      },
      "execution_count": 27,
      "outputs": [
        {
          "output_type": "stream",
          "name": "stdout",
          "text": [
            "[0.72670911 0.91376666 0.94483085 0.74217531 0.73554411]\n"
          ]
        }
      ]
    },
    {
      "cell_type": "code",
      "source": [
        "# compute the overall mean\n",
        "print(np.mean(arr))"
      ],
      "metadata": {
        "colab": {
          "base_uri": "https://localhost:8080/"
        },
        "id": "tkj7z9gC2vgI",
        "outputId": "9b4a149d-2e29-49f9-fa2d-d92f838479f1"
      },
      "execution_count": 28,
      "outputs": [
        {
          "output_type": "stream",
          "name": "stdout",
          "text": [
            "0.4636315911636759\n"
          ]
        }
      ]
    },
    {
      "cell_type": "code",
      "source": [
        "# compute the overall median\n",
        "print(np.median(arr))"
      ],
      "metadata": {
        "colab": {
          "base_uri": "https://localhost:8080/"
        },
        "id": "fV12VG304j4i",
        "outputId": "5e16c532-ac0a-4b6d-f1d5-ce63e99ffb79"
      },
      "execution_count": 29,
      "outputs": [
        {
          "output_type": "stream",
          "name": "stdout",
          "text": [
            "0.44761208951994347\n"
          ]
        }
      ]
    },
    {
      "cell_type": "code",
      "source": [
        "# compute the overall standard deviation\n",
        "print(np.std(arr))"
      ],
      "metadata": {
        "id": "KQtEj6mr4qvU",
        "colab": {
          "base_uri": "https://localhost:8080/"
        },
        "outputId": "ee933cc3-6d9b-4b49-9810-818da0d9981f"
      },
      "execution_count": 30,
      "outputs": [
        {
          "output_type": "stream",
          "name": "stdout",
          "text": [
            "0.27105168822158116\n"
          ]
        }
      ]
    },
    {
      "cell_type": "code",
      "source": [
        "# compute the overall variance\n",
        "print(np.var(arr))"
      ],
      "metadata": {
        "colab": {
          "base_uri": "https://localhost:8080/"
        },
        "id": "2_kpl9a249T_",
        "outputId": "a0ebac3d-13bd-46c4-8ca0-df4ba1c96835"
      },
      "execution_count": 31,
      "outputs": [
        {
          "output_type": "stream",
          "name": "stdout",
          "text": [
            "0.07346901768776923\n"
          ]
        }
      ]
    },
    {
      "cell_type": "code",
      "source": [
        "# calculate the cumulative sums along the row\n",
        "print(np.cumsum(arr, axis=0))"
      ],
      "metadata": {
        "colab": {
          "base_uri": "https://localhost:8080/"
        },
        "id": "3rxtl7eQ5L2p",
        "outputId": "d71f4125-77ba-45a4-f813-f0df21f08bd3"
      },
      "execution_count": 32,
      "outputs": [
        {
          "output_type": "stream",
          "name": "stdout",
          "text": [
            "[[0.02469739 0.52521997 0.31803104 0.72670911 0.19233633]\n",
            " [0.47230948 1.43898663 1.0255101  1.34415309 0.47016691]\n",
            " [0.70659387 2.38381747 1.29401975 2.08234639 0.53246941]\n",
            " [1.18130469 3.12599278 2.03093719 2.12525834 0.92814508]\n",
            " [1.42322519 3.26508749 2.7664813  2.77277708 1.36321871]]\n"
          ]
        }
      ]
    },
    {
      "cell_type": "code",
      "source": [
        "# calculate the cumulative product along the row\n",
        "print(np.cumprod(arr, axis=0))"
      ],
      "metadata": {
        "colab": {
          "base_uri": "https://localhost:8080/"
        },
        "id": "khem0ZHo5_Gt",
        "outputId": "3e883399-6cda-4020-ee7e-72f01ab4ac19"
      },
      "execution_count": 33,
      "outputs": [
        {
          "output_type": "stream",
          "name": "stdout",
          "text": [
            "[[2.46973895e-02 5.25219965e-01 3.18031042e-01 7.26709110e-01\n",
            "  1.92336332e-01]\n",
            " [1.10548501e-02 4.79928494e-01 2.25000301e-01 4.48702163e-01\n",
            "  5.34369138e-02]\n",
            " [2.58997880e-03 4.53451246e-01 6.04147526e-02 3.31228933e-01\n",
            "  3.32925364e-03]\n",
            " [1.22949097e-03 3.36540317e-01 4.45206852e-02 1.42136770e-02\n",
            "  1.31730465e-03]\n",
            " [2.97439069e-04 4.68109764e-02 3.27469277e-02 9.20362232e-03\n",
            "  5.73124523e-04]]\n"
          ]
        }
      ]
    },
    {
      "cell_type": "code",
      "source": [
        "arr = np.random.rand(3,4)"
      ],
      "metadata": {
        "id": "MSQtdqUG6JMq"
      },
      "execution_count": 34,
      "outputs": []
    },
    {
      "cell_type": "code",
      "source": [
        "print(arr)"
      ],
      "metadata": {
        "colab": {
          "base_uri": "https://localhost:8080/"
        },
        "id": "Ee2eVVa86gAP",
        "outputId": "7bfaef81-adb6-4901-81f2-f5ca74aa694e"
      },
      "execution_count": 35,
      "outputs": [
        {
          "output_type": "stream",
          "name": "stdout",
          "text": [
            "[[0.80244372 0.58617876 0.67559659 0.4713609 ]\n",
            " [0.73278709 0.18451069 0.58575049 0.21947135]\n",
            " [0.83518199 0.25532918 0.07161056 0.2467805 ]]\n"
          ]
        }
      ]
    },
    {
      "cell_type": "markdown",
      "source": [
        "# **Manipulate an Array**\n",
        "\n"
      ],
      "metadata": {
        "id": "id7ZuQTu7NSs"
      }
    },
    {
      "cell_type": "code",
      "source": [
        "# the following methods return a copy\n",
        "print(arr.T)\n",
        "# or\n",
        "print(\"\")\n",
        "print(np.transpose(arr))\n",
        "# or\n",
        "print(\"\")\n",
        "print(arr.transpose())"
      ],
      "metadata": {
        "colab": {
          "base_uri": "https://localhost:8080/"
        },
        "id": "YbhiYcSz7SZ-",
        "outputId": "b058a417-04d6-4fc5-d3ef-10a4e0e4b256"
      },
      "execution_count": 36,
      "outputs": [
        {
          "output_type": "stream",
          "name": "stdout",
          "text": [
            "[[0.80244372 0.73278709 0.83518199]\n",
            " [0.58617876 0.18451069 0.25532918]\n",
            " [0.67559659 0.58575049 0.07161056]\n",
            " [0.4713609  0.21947135 0.2467805 ]]\n",
            "\n",
            "[[0.80244372 0.73278709 0.83518199]\n",
            " [0.58617876 0.18451069 0.25532918]\n",
            " [0.67559659 0.58575049 0.07161056]\n",
            " [0.4713609  0.21947135 0.2467805 ]]\n",
            "\n",
            "[[0.80244372 0.73278709 0.83518199]\n",
            " [0.58617876 0.18451069 0.25532918]\n",
            " [0.67559659 0.58575049 0.07161056]\n",
            " [0.4713609  0.21947135 0.2467805 ]]\n"
          ]
        }
      ]
    },
    {
      "cell_type": "code",
      "source": [
        "arr = np.array([1,2,3])"
      ],
      "metadata": {
        "id": "eF9cTkVQ8y1Z"
      },
      "execution_count": 37,
      "outputs": []
    },
    {
      "cell_type": "code",
      "source": [
        "# append a scalar and return a copy\n",
        "arr1 = np.append(arr, 4)\n",
        "print(arr1)"
      ],
      "metadata": {
        "colab": {
          "base_uri": "https://localhost:8080/"
        },
        "id": "M01ZTQlP9NHD",
        "outputId": "d800daed-e876-4b4b-de3c-6e8ee5e747ac"
      },
      "execution_count": 38,
      "outputs": [
        {
          "output_type": "stream",
          "name": "stdout",
          "text": [
            "[1 2 3 4]\n"
          ]
        }
      ]
    },
    {
      "cell_type": "code",
      "source": [
        "# np.insert(array, position, element)\n",
        "\n",
        "# insert a scalar at a certain position\n",
        "arr3 = np.insert(arr, 0, 100)\n",
        "print(arr3)"
      ],
      "metadata": {
        "colab": {
          "base_uri": "https://localhost:8080/"
        },
        "id": "kV0FLt8H9SDh",
        "outputId": "7534a229-29ca-48c0-ff9e-531ef5e42db5"
      },
      "execution_count": 39,
      "outputs": [
        {
          "output_type": "stream",
          "name": "stdout",
          "text": [
            "[100   1   2   3]\n"
          ]
        }
      ]
    },
    {
      "cell_type": "code",
      "source": [
        "# remove the element at position 0\n",
        "arr4 = np.delete(arr, 0)\n",
        "print(arr4)"
      ],
      "metadata": {
        "colab": {
          "base_uri": "https://localhost:8080/"
        },
        "id": "bgu7C3zW9ZQ2",
        "outputId": "203c5704-8472-4a51-f64f-ef1cdb176ceb"
      },
      "execution_count": 40,
      "outputs": [
        {
          "output_type": "stream",
          "name": "stdout",
          "text": [
            "[2 3]\n"
          ]
        }
      ]
    },
    {
      "cell_type": "code",
      "source": [
        "arr1 = np.array([[1,2,3,4], [1,2,3,4]])\n",
        "arr2 = np.array([[5,6,7,8], [5,6,7,8]])"
      ],
      "metadata": {
        "id": "UsiRJ3029cY7"
      },
      "execution_count": 41,
      "outputs": []
    },
    {
      "cell_type": "code",
      "source": [
        "# concat along the row\n",
        "cat = np.concatenate((arr1, arr2), axis=0)\n",
        "print(cat)"
      ],
      "metadata": {
        "colab": {
          "base_uri": "https://localhost:8080/"
        },
        "id": "RbQ16HTk9lME",
        "outputId": "529782ab-1000-41b0-f468-dfc9ef9ac01e"
      },
      "execution_count": 42,
      "outputs": [
        {
          "output_type": "stream",
          "name": "stdout",
          "text": [
            "[[1 2 3 4]\n",
            " [1 2 3 4]\n",
            " [5 6 7 8]\n",
            " [5 6 7 8]]\n"
          ]
        }
      ]
    },
    {
      "cell_type": "code",
      "source": [
        "# concat along the column\n",
        "cat = np.concatenate((arr1, arr2), axis=1)\n",
        "print(cat)"
      ],
      "metadata": {
        "colab": {
          "base_uri": "https://localhost:8080/"
        },
        "id": "HCsByRID9oTC",
        "outputId": "411b7459-ab1b-44ca-9153-387df8297af3"
      },
      "execution_count": 43,
      "outputs": [
        {
          "output_type": "stream",
          "name": "stdout",
          "text": [
            "[[1 2 3 4 5 6 7 8]\n",
            " [1 2 3 4 5 6 7 8]]\n"
          ]
        }
      ]
    },
    {
      "cell_type": "code",
      "source": [
        "arr1 = np.random.rand(5,5)\n",
        "arr2 = np.random.rand(5,5)"
      ],
      "metadata": {
        "id": "m-J4oAeH9xUY"
      },
      "execution_count": 44,
      "outputs": []
    },
    {
      "cell_type": "code",
      "source": [
        "print(arr1.dot(arr2))\n",
        "# or\n",
        "print(np.dot(arr1, arr2))\n",
        "# or\n",
        "print(arr1 @ arr2)"
      ],
      "metadata": {
        "colab": {
          "base_uri": "https://localhost:8080/"
        },
        "id": "ECaQr0kP-NyJ",
        "outputId": "b8ab580c-ae16-4dc9-ec99-375f87d126fb"
      },
      "execution_count": 45,
      "outputs": [
        {
          "output_type": "stream",
          "name": "stdout",
          "text": [
            "[[0.7571696  1.29685604 1.16514373 1.12468873 1.28519863]\n",
            " [0.26087538 0.72385642 0.47716703 0.34409519 0.58530877]\n",
            " [0.19070449 0.63639778 0.56352997 0.41604066 0.2174662 ]\n",
            " [0.84886254 1.34551518 0.74550046 0.94797861 1.01127096]\n",
            " [1.04856987 1.65327146 0.53067896 1.09272101 1.06257927]]\n",
            "[[0.7571696  1.29685604 1.16514373 1.12468873 1.28519863]\n",
            " [0.26087538 0.72385642 0.47716703 0.34409519 0.58530877]\n",
            " [0.19070449 0.63639778 0.56352997 0.41604066 0.2174662 ]\n",
            " [0.84886254 1.34551518 0.74550046 0.94797861 1.01127096]\n",
            " [1.04856987 1.65327146 0.53067896 1.09272101 1.06257927]]\n",
            "[[0.7571696  1.29685604 1.16514373 1.12468873 1.28519863]\n",
            " [0.26087538 0.72385642 0.47716703 0.34409519 0.58530877]\n",
            " [0.19070449 0.63639778 0.56352997 0.41604066 0.2174662 ]\n",
            " [0.84886254 1.34551518 0.74550046 0.94797861 1.01127096]\n",
            " [1.04856987 1.65327146 0.53067896 1.09272101 1.06257927]]\n"
          ]
        }
      ]
    },
    {
      "cell_type": "markdown",
      "source": [],
      "metadata": {
        "id": "DUAQ6fLiAjNw"
      }
    },
    {
      "cell_type": "code",
      "source": [
        "arr = np.random.rand(5,5)"
      ],
      "metadata": {
        "id": "QnFhC3y--VGF"
      },
      "execution_count": 46,
      "outputs": []
    },
    {
      "cell_type": "code",
      "source": [
        "print(arr)"
      ],
      "metadata": {
        "id": "5B8Gon1tKCt6",
        "outputId": "d440998f-cb64-4493-d46c-8b63d109f3d6",
        "colab": {
          "base_uri": "https://localhost:8080/"
        }
      },
      "execution_count": 47,
      "outputs": [
        {
          "output_type": "stream",
          "name": "stdout",
          "text": [
            "[[0.13375822 0.4148011  0.40631434 0.29235348 0.38018126]\n",
            " [0.3296828  0.9847537  0.92729495 0.1074607  0.14354003]\n",
            " [0.60234021 0.12842497 0.26508889 0.31163316 0.14015382]\n",
            " [0.68423402 0.38327388 0.4666037  0.53700524 0.38732231]\n",
            " [0.73842548 0.22747965 0.7233531  0.53577907 0.30256489]]\n"
          ]
        }
      ]
    },
    {
      "cell_type": "code",
      "source": [
        "# compute the inverse of a matrix\n",
        "print(np.linalg.inv(arr))"
      ],
      "metadata": {
        "colab": {
          "base_uri": "https://localhost:8080/"
        },
        "id": "atg5Cc0pJ9DO",
        "outputId": "58fa6b73-381d-40a8-aef5-329ea3fdc1d1"
      },
      "execution_count": 48,
      "outputs": [
        {
          "output_type": "stream",
          "name": "stdout",
          "text": [
            "[[  4.75299699  -0.23591746  11.11019646  -7.19264519  -1.79928793]\n",
            " [ -3.77801585   1.15922758  -5.04032039   6.37529664  -1.62920151]\n",
            " [  1.77938602   0.13942928   1.2854365   -4.14215242   2.40505861]\n",
            " [-16.16277359   0.7004139  -26.56730118  22.62117176   3.32513986]\n",
            " [ 15.60735963  -1.86940703  20.64647223 -17.39372122  -2.71676164]]\n"
          ]
        }
      ]
    },
    {
      "cell_type": "code",
      "source": [
        "import numpy as np\n",
        "import time\n",
        "\n",
        "# Define the size of the array/list\n",
        "size = 1000000\n",
        "\n",
        "# Create a Python list\n",
        "start_time = time.time()\n",
        "py_list = list(range(size))\n",
        "py_list_sum = sum(py_list)\n",
        "end_time = time.time()\n",
        "py_time = end_time - start_time\n",
        "\n",
        "# Create a NumPy array\n",
        "start_time = time.time()\n",
        "np_array = np.arange(size)\n",
        "np_array_sum = np.sum(np_array)\n",
        "end_time = time.time()\n",
        "np_time = end_time - start_time\n",
        "\n",
        "\n",
        "\n",
        "print(\"Time taken for NumPy array operation:\", np_time)\n",
        "print(\"Time taken for Python list operation:\", py_time)\n"
      ],
      "metadata": {
        "id": "_lM1_QzRKB1u",
        "colab": {
          "base_uri": "https://localhost:8080/"
        },
        "outputId": "fb127085-54d6-4e39-86c3-338533e113ce"
      },
      "execution_count": 49,
      "outputs": [
        {
          "output_type": "stream",
          "name": "stdout",
          "text": [
            "Time taken for NumPy array operation: 0.010814189910888672\n",
            "Time taken for Python list operation: 0.16726064682006836\n"
          ]
        }
      ]
    },
    {
      "cell_type": "code",
      "source": [],
      "metadata": {
        "id": "A7HLtN01J--K"
      },
      "execution_count": 49,
      "outputs": []
    }
  ]
}